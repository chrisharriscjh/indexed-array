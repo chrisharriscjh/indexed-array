{
 "cells": [
  {
   "cell_type": "code",
   "execution_count": 1,
   "metadata": {
    "scrolled": true
   },
   "outputs": [],
   "source": [
    "import numpy as np\n",
    "import test_vars.vars as vs"
   ]
  },
  {
   "cell_type": "code",
   "execution_count": 2,
   "metadata": {},
   "outputs": [
    {
     "data": {
      "text/plain": [
       "array([[[0.1, 0.2, 0.3, 0.4, 0.5],\n",
       "        [1.1, 1.2, 1.3, 1.4, 1.5],\n",
       "        [2.1, 2.2, 2.3, 2.4, 2.5]],\n",
       "\n",
       "       [[3.1, 3.2, 3.3, 3.4, 3.5],\n",
       "        [4.1, 4.2, 4.3, 4.4, 4.5],\n",
       "        [5.1, 5.2, 5.3, 5.4, 5.5]]])"
      ]
     },
     "execution_count": 2,
     "metadata": {},
     "output_type": "execute_result"
    }
   ],
   "source": [
    "vs.dbl3d"
   ]
  },
  {
   "cell_type": "code",
   "execution_count": 4,
   "metadata": {},
   "outputs": [
    {
     "name": "stdout",
     "output_type": "stream",
     "text": [
      "(3, 3, 4)\n",
      "[[[ 1  2  3  4]\n",
      "  [ 5  6  7  8]\n",
      "  [ 9 10 11 12]]\n",
      "\n",
      " [[13 14 15 16]\n",
      "  [17 18 19 20]\n",
      "  [21 22 23 24]]\n",
      "\n",
      " [[ 2  3  4  5]\n",
      "  [ 6  7  8  9]\n",
      "  [10 11 12 13]]]\n"
     ]
    }
   ],
   "source": [
    "# Concatenating a 3d array along dimension 0 returns the correct resultj\n",
    "t1 = np.array(\n",
    "    [[[1, 2, 3, 4],\n",
    "      [5, 6, 7, 8],\n",
    "      [9, 10, 11, 12]],\n",
    "    [[13, 14, 15, 16],\n",
    "      [17, 18, 19, 20],\n",
    "      [21, 22, 23, 24]]]\n",
    ")\n",
    "\n",
    "c0 = np.concatenate([t1, (t1[[0]] + 1)], axis=0)\n",
    "print(c0.shape)\n",
    "print(c0)"
   ]
  },
  {
   "cell_type": "code",
   "execution_count": 18,
   "metadata": {},
   "outputs": [
    {
     "name": "stdout",
     "output_type": "stream",
     "text": [
      "(2, 4, 4)\n",
      "[[[ 1  2  3  4]\n",
      "  [ 5  6  7  8]\n",
      "  [ 9 10 11 12]\n",
      "  [ 2  3  4  5]]\n",
      "\n",
      " [[13 14 15 16]\n",
      "  [17 18 19 20]\n",
      "  [21 22 23 24]\n",
      "  [14 15 16 17]]]\n"
     ]
    }
   ],
   "source": [
    "# Concatenating a 3d array along dimension 1 returns the correct result\n",
    "c1 = np.concatenate([t1, t1[:, [0], :] + 1], axis=1)\n",
    "print(c1.shape)\n",
    "print(c1)"
   ]
  },
  {
   "cell_type": "code",
   "execution_count": 48,
   "metadata": {},
   "outputs": [
    {
     "data": {
      "text/plain": [
       "array([[[ 1,  2,  3,  4],\n",
       "        [ 5,  6,  7,  8],\n",
       "        [ 9, 10, 11, 12],\n",
       "        [13, 14, 15, 16]],\n",
       "\n",
       "       [[17, 18, 19, 20],\n",
       "        [21, 22, 23, 24],\n",
       "        [ 2,  3,  4,  5],\n",
       "        [14, 15, 16, 17]]])"
      ]
     },
     "execution_count": 48,
     "metadata": {},
     "output_type": "execute_result"
    }
   ],
   "source": [
    "# Concatenate cannot be replicated with any combination of flatten and reshape. F and F\n",
    "# def sconc(t1, shape):\n",
    "    \n",
    "fl = np.concatenate([t1.flatten(order='A'), (t1[:, [0], :] + 1).flatten(order='A')], axis = 0)\n",
    "fl.reshape([2, 4, 4], order='A')"
   ]
  },
  {
   "cell_type": "code",
   "execution_count": 29,
   "metadata": {},
   "outputs": [],
   "source": [
    "# Attempting to reconstruct using other reshape methodologies\n"
   ]
  },
  {
   "cell_type": "code",
   "execution_count": 30,
   "metadata": {},
   "outputs": [
    {
     "data": {
      "text/plain": [
       "array([[[ 1,  2,  3,  4],\n",
       "        [ 5,  6,  7,  8],\n",
       "        [ 9, 10, 11, 12],\n",
       "        [13, 14, 15, 16]],\n",
       "\n",
       "       [[17, 18, 19, 20],\n",
       "        [21, 22, 23, 24],\n",
       "        [ 2,  3,  4,  5],\n",
       "        [14, 15, 16, 17]]])"
      ]
     },
     "execution_count": 30,
     "metadata": {},
     "output_type": "execute_result"
    }
   ],
   "source": [
    "# reshape is working the same way in both numpy and sport\n",
    "fl.reshape([2, 4, 4])"
   ]
  },
  {
   "cell_type": "code",
   "execution_count": null,
   "metadata": {},
   "outputs": [],
   "source": []
  },
  {
   "cell_type": "code",
   "execution_count": 6,
   "metadata": {},
   "outputs": [
    {
     "name": "stdout",
     "output_type": "stream",
     "text": [
      "(2, 3, 5)\n",
      "[[[ 1  2  3  4  2]\n",
      "  [ 5  6  7  8  6]\n",
      "  [ 9 10 11 12 10]]\n",
      "\n",
      " [[13 14 15 16 14]\n",
      "  [17 18 19 20 18]\n",
      "  [21 22 23 24 22]]]\n"
     ]
    }
   ],
   "source": [
    "# Concatenating a 3d array along dimension 2 returns the correct result\n",
    "c2 = np.concatenate([t1, t1[:, :, [0]] + 1], axis=2)\n",
    "print(c2.shape)\n",
    "print(c2)"
   ]
  },
  {
   "cell_type": "code",
   "execution_count": 49,
   "metadata": {},
   "outputs": [
    {
     "data": {
      "text/plain": [
       "array([[[1.1 , 1.2 , 1.3 ],\n",
       "        [1.01, 1.02, 1.03]],\n",
       "\n",
       "       [[2.1 , 2.2 , 2.3 ],\n",
       "        [2.01, 2.02, 2.03]]])"
      ]
     },
     "execution_count": 49,
     "metadata": {},
     "output_type": "execute_result"
    }
   ],
   "source": [
    "test1 = np.array(\n",
    "    [[[1.1, 1.2, 1.3],\n",
    "      [1.01, 1.02, 1.03]],\n",
    "     [[2.1, 2.2, 2.3],\n",
    "      [2.01, 2.02, 2.03]]]\n",
    ")\n",
    "test1"
   ]
  },
  {
   "cell_type": "code",
   "execution_count": 56,
   "metadata": {},
   "outputs": [
    {
     "data": {
      "text/plain": [
       "array([[[3.1, 3.2, 3.3]],\n",
       "\n",
       "       [[4.1, 4.2, 4.3]]])"
      ]
     },
     "execution_count": 56,
     "metadata": {},
     "output_type": "execute_result"
    }
   ],
   "source": [
    "test2 = test1 + 2.\n",
    "test2 = test2[:, [0], :]\n",
    "test2"
   ]
  },
  {
   "cell_type": "code",
   "execution_count": 58,
   "metadata": {},
   "outputs": [
    {
     "data": {
      "text/plain": [
       "array([1.1 , 1.2 , 1.3 , 1.01, 1.02, 1.03, 2.1 , 2.2 , 2.3 , 2.01, 2.02,\n",
       "       2.03])"
      ]
     },
     "execution_count": 58,
     "metadata": {},
     "output_type": "execute_result"
    }
   ],
   "source": [
    "test1.flatten()"
   ]
  },
  {
   "cell_type": "code",
   "execution_count": 57,
   "metadata": {},
   "outputs": [
    {
     "data": {
      "text/plain": [
       "array([[[1.1 , 1.2 , 1.3 ],\n",
       "        [1.01, 1.02, 1.03],\n",
       "        [3.1 , 3.2 , 3.3 ]],\n",
       "\n",
       "       [[2.1 , 2.2 , 2.3 ],\n",
       "        [2.01, 2.02, 2.03],\n",
       "        [4.1 , 4.2 , 4.3 ]]])"
      ]
     },
     "execution_count": 57,
     "metadata": {},
     "output_type": "execute_result"
    }
   ],
   "source": [
    "np.concatenate([test1, test2], axis=1)"
   ]
  },
  {
   "cell_type": "code",
   "execution_count": 59,
   "metadata": {},
   "outputs": [
    {
     "ename": "ValueError",
     "evalue": "all the input array dimensions for the concatenation axis must match exactly, but along dimension 1, the array at index 0 has size 2 and the array at index 1 has size 1",
     "output_type": "error",
     "traceback": [
      "\u001b[0;31m---------------------------------------------------------------------------\u001b[0m",
      "\u001b[0;31mValueError\u001b[0m                                Traceback (most recent call last)",
      "\u001b[0;32m<ipython-input-59-fa838b55e424>\u001b[0m in \u001b[0;36m<module>\u001b[0;34m\u001b[0m\n\u001b[0;32m----> 1\u001b[0;31m \u001b[0mnp\u001b[0m\u001b[0;34m.\u001b[0m\u001b[0mconcatenate\u001b[0m\u001b[0;34m(\u001b[0m\u001b[0;34m[\u001b[0m\u001b[0mtest1\u001b[0m\u001b[0;34m,\u001b[0m \u001b[0mtest2\u001b[0m\u001b[0;34m]\u001b[0m\u001b[0;34m,\u001b[0m \u001b[0maxis\u001b[0m\u001b[0;34m=\u001b[0m\u001b[0;36m0\u001b[0m\u001b[0;34m)\u001b[0m\u001b[0;34m\u001b[0m\u001b[0;34m\u001b[0m\u001b[0m\n\u001b[0m",
      "\u001b[0;32m<__array_function__ internals>\u001b[0m in \u001b[0;36mconcatenate\u001b[0;34m(*args, **kwargs)\u001b[0m\n",
      "\u001b[0;31mValueError\u001b[0m: all the input array dimensions for the concatenation axis must match exactly, but along dimension 1, the array at index 0 has size 2 and the array at index 1 has size 1"
     ]
    }
   ],
   "source": [
    "np.concatenate([test1, test2], axis=0)"
   ]
  },
  {
   "cell_type": "code",
   "execution_count": null,
   "metadata": {},
   "outputs": [],
   "source": [
    "# If we flatten then the t2 values will be at the end of the list, naturally.\n",
    "# This would mean that these six cells end up as the final two elems of dim0: 1\n",
    "# Because we are intending to add\n",
    "# BThis would be avoided if we "
   ]
  }
 ],
 "metadata": {
  "kernelspec": {
   "display_name": "Python 3",
   "language": "python",
   "name": "python3"
  },
  "language_info": {
   "codemirror_mode": {
    "name": "ipython",
    "version": 3
   },
   "file_extension": ".py",
   "mimetype": "text/x-python",
   "name": "python",
   "nbconvert_exporter": "python",
   "pygments_lexer": "ipython3",
   "version": "3.8.6"
  }
 },
 "nbformat": 4,
 "nbformat_minor": 4
}
