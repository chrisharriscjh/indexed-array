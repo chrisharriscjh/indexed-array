{
 "cells": [
  {
   "cell_type": "code",
   "execution_count": 16,
   "metadata": {},
   "outputs": [],
   "source": [
    "import numpy as np\n",
    "import test_vars.vars as vs"
   ]
  },
  {
   "cell_type": "code",
   "execution_count": 17,
   "metadata": {},
   "outputs": [
    {
     "data": {
      "text/plain": [
       "array([1, 2, 3])"
      ]
     },
     "execution_count": 17,
     "metadata": {},
     "output_type": "execute_result"
    }
   ],
   "source": [
    "vs.list1d"
   ]
  },
  {
   "cell_type": "code",
   "execution_count": 11,
   "metadata": {},
   "outputs": [
    {
     "name": "stdout",
     "output_type": "stream",
     "text": [
      "(3, 3, 4)\n",
      "[[[ 1  2  3  4]\n",
      "  [ 5  6  7  8]\n",
      "  [ 9 10 11 12]]\n",
      "\n",
      " [[13 14 15 16]\n",
      "  [17 18 19 20]\n",
      "  [21 22 23 24]]\n",
      "\n",
      " [[ 2  3  4  5]\n",
      "  [ 6  7  8  9]\n",
      "  [10 11 12 13]]]\n"
     ]
    }
   ],
   "source": [
    "# Concatenating a 3d array along dimension 0 returns the correct resultj\n",
    "t1 = np.array(\n",
    "    [[[1, 2, 3, 4],\n",
    "      [5, 6, 7, 8],\n",
    "      [9, 10, 11, 12]],\n",
    "    [[13, 14, 15, 16],\n",
    "      [17, 18, 19, 20],\n",
    "      [21, 22, 23, 24]]]\n",
    ")\n",
    "\n",
    "c0 = np.concatenate([t1, (t1[[0]] + 1)], axis=0)\n",
    "print(c0.shape)\n",
    "print(c0)"
   ]
  },
  {
   "cell_type": "code",
   "execution_count": 10,
   "metadata": {},
   "outputs": [
    {
     "name": "stdout",
     "output_type": "stream",
     "text": [
      "(2, 4, 4)\n",
      "[[[ 1  2  3  4]\n",
      "  [ 5  6  7  8]\n",
      "  [ 9 10 11 12]\n",
      "  [ 2  3  4  5]]\n",
      "\n",
      " [[13 14 15 16]\n",
      "  [17 18 19 20]\n",
      "  [21 22 23 24]\n",
      "  [14 15 16 17]]]\n"
     ]
    }
   ],
   "source": [
    "# Concatenating a 3d array along dimension 1 returns the correct result\n",
    "c1 = np.concatenate([t1, t1[:, [0], :] + 1], axis=1)\n",
    "print(c1.shape)\n",
    "print(c1)"
   ]
  },
  {
   "cell_type": "code",
   "execution_count": 12,
   "metadata": {},
   "outputs": [
    {
     "name": "stdout",
     "output_type": "stream",
     "text": [
      "(2, 3, 5)\n",
      "[[[ 1  2  3  4  2]\n",
      "  [ 5  6  7  8  6]\n",
      "  [ 9 10 11 12 10]]\n",
      "\n",
      " [[13 14 15 16 14]\n",
      "  [17 18 19 20 18]\n",
      "  [21 22 23 24 22]]]\n"
     ]
    }
   ],
   "source": [
    "# Concatenating a 3d array along dimension 2 returns the correct result\n",
    "c2 = np.concatenate([t1, t1[:, :, [0]] + 1], axis=2)\n",
    "print(c2.shape)\n",
    "print(c2)"
   ]
  },
  {
   "cell_type": "code",
   "execution_count": null,
   "metadata": {},
   "outputs": [],
   "source": []
  }
 ],
 "metadata": {
  "kernelspec": {
   "display_name": "Python 3",
   "language": "python",
   "name": "python3"
  },
  "language_info": {
   "codemirror_mode": {
    "name": "ipython",
    "version": 3
   },
   "file_extension": ".py",
   "mimetype": "text/x-python",
   "name": "python",
   "nbconvert_exporter": "python",
   "pygments_lexer": "ipython3",
   "version": "3.8.6"
  }
 },
 "nbformat": 4,
 "nbformat_minor": 4
}
