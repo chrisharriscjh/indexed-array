{
 "cells": [
  {
   "cell_type": "code",
   "execution_count": 1,
   "metadata": {},
   "outputs": [],
   "source": [
    "import numpy as np\n",
    "from test_vars.vars import *"
   ]
  },
  {
   "cell_type": "code",
   "execution_count": 4,
   "metadata": {},
   "outputs": [
    {
     "data": {
      "text/plain": [
       "(2, 3, 5)"
      ]
     },
     "execution_count": 4,
     "metadata": {},
     "output_type": "execute_result"
    }
   ],
   "source": [
    "dbl3d.shape"
   ]
  },
  {
   "cell_type": "code",
   "execution_count": 3,
   "metadata": {},
   "outputs": [
    {
     "data": {
      "text/plain": [
       "(5, 3, 2)"
      ]
     },
     "execution_count": 3,
     "metadata": {},
     "output_type": "execute_result"
    }
   ],
   "source": [
    "dbl3d.T.shape"
   ]
  },
  {
   "cell_type": "code",
   "execution_count": 9,
   "metadata": {},
   "outputs": [
    {
     "data": {
      "text/plain": [
       "array([[[0.   , 0.1  ],\n",
       "        [0.01 , 0.11 ],\n",
       "        [0.02 , 0.12 ]],\n",
       "\n",
       "       [[0.001, 0.101],\n",
       "        [0.011, 0.111],\n",
       "        [0.021, 0.121]],\n",
       "\n",
       "       [[0.002, 0.102],\n",
       "        [0.012, 0.112],\n",
       "        [0.022, 0.122]],\n",
       "\n",
       "       [[0.003, 0.103],\n",
       "        [0.013, 0.113],\n",
       "        [0.023, 0.123]],\n",
       "\n",
       "       [[0.004, 0.104],\n",
       "        [0.014, 0.114],\n",
       "        [0.024, 0.124]]])"
      ]
     },
     "execution_count": 9,
     "metadata": {},
     "output_type": "execute_result"
    }
   ],
   "source": [
    "dbl3d.T"
   ]
  },
  {
   "cell_type": "code",
   "execution_count": 8,
   "metadata": {},
   "outputs": [
    {
     "data": {
      "text/plain": [
       "(2, 5, 3)"
      ]
     },
     "execution_count": 8,
     "metadata": {},
     "output_type": "execute_result"
    }
   ],
   "source": [
    "dbl3d.transpose(0,2,1).shape"
   ]
  },
  {
   "cell_type": "code",
   "execution_count": 10,
   "metadata": {},
   "outputs": [
    {
     "data": {
      "text/plain": [
       "array([[[0.   , 0.01 , 0.02 ],\n",
       "        [0.001, 0.011, 0.021],\n",
       "        [0.002, 0.012, 0.022],\n",
       "        [0.003, 0.013, 0.023],\n",
       "        [0.004, 0.014, 0.024]],\n",
       "\n",
       "       [[0.1  , 0.11 , 0.12 ],\n",
       "        [0.101, 0.111, 0.121],\n",
       "        [0.102, 0.112, 0.122],\n",
       "        [0.103, 0.113, 0.123],\n",
       "        [0.104, 0.114, 0.124]]])"
      ]
     },
     "execution_count": 10,
     "metadata": {},
     "output_type": "execute_result"
    }
   ],
   "source": [
    "dbl3d.transpose(0,2,1)"
   ]
  },
  {
   "cell_type": "code",
   "execution_count": null,
   "metadata": {},
   "outputs": [],
   "source": []
  }
 ],
 "metadata": {
  "kernelspec": {
   "display_name": "Python 3",
   "language": "python",
   "name": "python3"
  },
  "language_info": {
   "codemirror_mode": {
    "name": "ipython",
    "version": 3
   },
   "file_extension": ".py",
   "mimetype": "text/x-python",
   "name": "python",
   "nbconvert_exporter": "python",
   "pygments_lexer": "ipython3",
   "version": "3.8.6"
  }
 },
 "nbformat": 4,
 "nbformat_minor": 4
}
