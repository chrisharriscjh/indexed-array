{
 "cells": [
  {
   "cell_type": "code",
   "execution_count": 19,
   "metadata": {},
   "outputs": [],
   "source": [
    "import numpy as np\n",
    "from test_vars.vars import *\n",
    "np.set_printoptions(suppress=True)"
   ]
  },
  {
   "cell_type": "code",
   "execution_count": 20,
   "metadata": {},
   "outputs": [
    {
     "data": {
      "text/plain": [
       "(3, 5)"
      ]
     },
     "execution_count": 20,
     "metadata": {},
     "output_type": "execute_result"
    }
   ],
   "source": [
    "dbl2d.shape"
   ]
  },
  {
   "cell_type": "code",
   "execution_count": 21,
   "metadata": {},
   "outputs": [
    {
     "data": {
      "text/plain": [
       "array([[0.  , 0.01, 0.02, 0.03, 0.04],\n",
       "       [0.1 , 0.11, 0.12, 0.13, 0.14],\n",
       "       [0.2 , 0.21, 0.22, 0.23, 0.24]])"
      ]
     },
     "execution_count": 21,
     "metadata": {},
     "output_type": "execute_result"
    }
   ],
   "source": [
    "dbl2d"
   ]
  },
  {
   "cell_type": "code",
   "execution_count": 22,
   "metadata": {},
   "outputs": [
    {
     "data": {
      "text/plain": [
       "array([[0.  , 0.1 , 0.2 ],\n",
       "       [0.01, 0.11, 0.21],\n",
       "       [0.02, 0.12, 0.22],\n",
       "       [0.03, 0.13, 0.23],\n",
       "       [0.04, 0.14, 0.24]])"
      ]
     },
     "execution_count": 22,
     "metadata": {},
     "output_type": "execute_result"
    }
   ],
   "source": [
    "dbl2d.T"
   ]
  },
  {
   "cell_type": "code",
   "execution_count": 23,
   "metadata": {},
   "outputs": [
    {
     "data": {
      "text/plain": [
       "(2, 3, 5)"
      ]
     },
     "execution_count": 23,
     "metadata": {},
     "output_type": "execute_result"
    }
   ],
   "source": [
    "dbl3d.shape"
   ]
  },
  {
   "cell_type": "code",
   "execution_count": 24,
   "metadata": {},
   "outputs": [
    {
     "data": {
      "text/plain": [
       "(5, 3, 2)"
      ]
     },
     "execution_count": 24,
     "metadata": {},
     "output_type": "execute_result"
    }
   ],
   "source": [
    "dbl3d.T.shape"
   ]
  },
  {
   "cell_type": "code",
   "execution_count": 27,
   "metadata": {},
   "outputs": [
    {
     "data": {
      "text/plain": [
       "array([[[[0.    , 0.1   ],\n",
       "         [0.01  , 0.11  ]],\n",
       "\n",
       "        [[0.001 , 0.101 ],\n",
       "         [0.011 , 0.111 ]],\n",
       "\n",
       "        [[0.002 , 0.102 ],\n",
       "         [0.012 , 0.112 ]]],\n",
       "\n",
       "\n",
       "       [[[0.0001, 0.1001],\n",
       "         [0.0101, 0.1101]],\n",
       "\n",
       "        [[0.0011, 0.1011],\n",
       "         [0.0111, 0.1111]],\n",
       "\n",
       "        [[0.0021, 0.1021],\n",
       "         [0.0121, 0.1121]]],\n",
       "\n",
       "\n",
       "       [[[0.0002, 0.1002],\n",
       "         [0.0102, 0.1102]],\n",
       "\n",
       "        [[0.0012, 0.1012],\n",
       "         [0.0112, 0.1112]],\n",
       "\n",
       "        [[0.0022, 0.1022],\n",
       "         [0.0122, 0.1122]]],\n",
       "\n",
       "\n",
       "       [[[0.0003, 0.1003],\n",
       "         [0.0103, 0.1103]],\n",
       "\n",
       "        [[0.0013, 0.1013],\n",
       "         [0.0113, 0.1113]],\n",
       "\n",
       "        [[0.0023, 0.1023],\n",
       "         [0.0123, 0.1123]]],\n",
       "\n",
       "\n",
       "       [[[0.0004, 0.1004],\n",
       "         [0.0104, 0.1104]],\n",
       "\n",
       "        [[0.0014, 0.1014],\n",
       "         [0.0114, 0.1114]],\n",
       "\n",
       "        [[0.0024, 0.1024],\n",
       "         [0.0124, 0.1124]]]])"
      ]
     },
     "execution_count": 27,
     "metadata": {},
     "output_type": "execute_result"
    }
   ],
   "source": [
    "dbl4d.T"
   ]
  },
  {
   "cell_type": "code",
   "execution_count": 26,
   "metadata": {},
   "outputs": [
    {
     "data": {
      "text/plain": [
       "array([[[[0.    , 0.001 , 0.002 ],\n",
       "         [0.0001, 0.0011, 0.0021],\n",
       "         [0.0002, 0.0012, 0.0022],\n",
       "         [0.0003, 0.0013, 0.0023],\n",
       "         [0.0004, 0.0014, 0.0024]],\n",
       "\n",
       "        [[0.01  , 0.011 , 0.012 ],\n",
       "         [0.0101, 0.0111, 0.0121],\n",
       "         [0.0102, 0.0112, 0.0122],\n",
       "         [0.0103, 0.0113, 0.0123],\n",
       "         [0.0104, 0.0114, 0.0124]]],\n",
       "\n",
       "\n",
       "       [[[0.1   , 0.101 , 0.102 ],\n",
       "         [0.1001, 0.1011, 0.1021],\n",
       "         [0.1002, 0.1012, 0.1022],\n",
       "         [0.1003, 0.1013, 0.1023],\n",
       "         [0.1004, 0.1014, 0.1024]],\n",
       "\n",
       "        [[0.11  , 0.111 , 0.112 ],\n",
       "         [0.1101, 0.1111, 0.1121],\n",
       "         [0.1102, 0.1112, 0.1122],\n",
       "         [0.1103, 0.1113, 0.1123],\n",
       "         [0.1104, 0.1114, 0.1124]]]])"
      ]
     },
     "execution_count": 26,
     "metadata": {},
     "output_type": "execute_result"
    }
   ],
   "source": [
    "dbl4d.transpose(0,1,3,2)"
   ]
  },
  {
   "cell_type": "code",
   "execution_count": null,
   "metadata": {},
   "outputs": [],
   "source": []
  },
  {
   "cell_type": "code",
   "execution_count": 9,
   "metadata": {},
   "outputs": [
    {
     "data": {
      "text/plain": [
       "array([[[[ True,  True],\n",
       "         [ True,  True]],\n",
       "\n",
       "        [[ True,  True],\n",
       "         [ True,  True]],\n",
       "\n",
       "        [[ True,  True],\n",
       "         [ True,  True]]],\n",
       "\n",
       "\n",
       "       [[[ True,  True],\n",
       "         [ True,  True]],\n",
       "\n",
       "        [[ True,  True],\n",
       "         [ True,  True]],\n",
       "\n",
       "        [[ True,  True],\n",
       "         [ True,  True]]],\n",
       "\n",
       "\n",
       "       [[[ True,  True],\n",
       "         [ True,  True]],\n",
       "\n",
       "        [[ True,  True],\n",
       "         [ True,  True]],\n",
       "\n",
       "        [[ True,  True],\n",
       "         [ True,  True]]],\n",
       "\n",
       "\n",
       "       [[[ True,  True],\n",
       "         [ True,  True]],\n",
       "\n",
       "        [[ True,  True],\n",
       "         [ True,  True]],\n",
       "\n",
       "        [[ True,  True],\n",
       "         [ True,  True]]],\n",
       "\n",
       "\n",
       "       [[[ True,  True],\n",
       "         [ True,  True]],\n",
       "\n",
       "        [[ True,  True],\n",
       "         [ True,  True]],\n",
       "\n",
       "        [[ True,  True],\n",
       "         [ True,  True]]]])"
      ]
     },
     "execution_count": 9,
     "metadata": {},
     "output_type": "execute_result"
    }
   ],
   "source": [
    "dbl4d.transpose(\n",
    "    1,0,2,3).transpose(\n",
    "    0,2,1,3).transpose(\n",
    "    0,1,3,2).transpose(\n",
    "    1,0,2,3).transpose(\n",
    "    0,2,1,3).transpose(\n",
    "    1,0,2,3) == dbl4d.T"
   ]
  },
  {
   "cell_type": "code",
   "execution_count": 10,
   "metadata": {},
   "outputs": [
    {
     "data": {
      "text/plain": [
       "array([[[[0.000e+00, 1.000e-01],\n",
       "         [1.000e-02, 1.100e-01]],\n",
       "\n",
       "        [[1.000e-03, 1.010e-01],\n",
       "         [1.100e-02, 1.110e-01]],\n",
       "\n",
       "        [[2.000e-03, 1.020e-01],\n",
       "         [1.200e-02, 1.120e-01]]],\n",
       "\n",
       "\n",
       "       [[[1.000e-04, 1.001e-01],\n",
       "         [1.010e-02, 1.101e-01]],\n",
       "\n",
       "        [[1.100e-03, 1.011e-01],\n",
       "         [1.110e-02, 1.111e-01]],\n",
       "\n",
       "        [[2.100e-03, 1.021e-01],\n",
       "         [1.210e-02, 1.121e-01]]],\n",
       "\n",
       "\n",
       "       [[[2.000e-04, 1.002e-01],\n",
       "         [1.020e-02, 1.102e-01]],\n",
       "\n",
       "        [[1.200e-03, 1.012e-01],\n",
       "         [1.120e-02, 1.112e-01]],\n",
       "\n",
       "        [[2.200e-03, 1.022e-01],\n",
       "         [1.220e-02, 1.122e-01]]],\n",
       "\n",
       "\n",
       "       [[[3.000e-04, 1.003e-01],\n",
       "         [1.030e-02, 1.103e-01]],\n",
       "\n",
       "        [[1.300e-03, 1.013e-01],\n",
       "         [1.130e-02, 1.113e-01]],\n",
       "\n",
       "        [[2.300e-03, 1.023e-01],\n",
       "         [1.230e-02, 1.123e-01]]],\n",
       "\n",
       "\n",
       "       [[[4.000e-04, 1.004e-01],\n",
       "         [1.040e-02, 1.104e-01]],\n",
       "\n",
       "        [[1.400e-03, 1.014e-01],\n",
       "         [1.140e-02, 1.114e-01]],\n",
       "\n",
       "        [[2.400e-03, 1.024e-01],\n",
       "         [1.240e-02, 1.124e-01]]]])"
      ]
     },
     "execution_count": 10,
     "metadata": {},
     "output_type": "execute_result"
    }
   ],
   "source": [
    "dbl4d.T"
   ]
  },
  {
   "cell_type": "code",
   "execution_count": 11,
   "metadata": {},
   "outputs": [
    {
     "data": {
      "text/plain": [
       "array([[[0.   , 0.001, 0.002, 0.003, 0.004],\n",
       "        [0.01 , 0.011, 0.012, 0.013, 0.014],\n",
       "        [0.02 , 0.021, 0.022, 0.023, 0.024]],\n",
       "\n",
       "       [[0.1  , 0.101, 0.102, 0.103, 0.104],\n",
       "        [0.11 , 0.111, 0.112, 0.113, 0.114],\n",
       "        [0.12 , 0.121, 0.122, 0.123, 0.124]]])"
      ]
     },
     "execution_count": 11,
     "metadata": {},
     "output_type": "execute_result"
    }
   ],
   "source": [
    "dbl3d"
   ]
  },
  {
   "cell_type": "code",
   "execution_count": 12,
   "metadata": {},
   "outputs": [
    {
     "data": {
      "text/plain": [
       "array([[[0.   , 0.01 , 0.02 ],\n",
       "        [0.1  , 0.11 , 0.12 ]],\n",
       "\n",
       "       [[0.001, 0.011, 0.021],\n",
       "        [0.101, 0.111, 0.121]],\n",
       "\n",
       "       [[0.002, 0.012, 0.022],\n",
       "        [0.102, 0.112, 0.122]],\n",
       "\n",
       "       [[0.003, 0.013, 0.023],\n",
       "        [0.103, 0.113, 0.123]],\n",
       "\n",
       "       [[0.004, 0.014, 0.024],\n",
       "        [0.104, 0.114, 0.124]]])"
      ]
     },
     "execution_count": 12,
     "metadata": {},
     "output_type": "execute_result"
    }
   ],
   "source": [
    "dbl3d.transpose(0,2,1).transpose(1, 0,2)"
   ]
  },
  {
   "cell_type": "code",
   "execution_count": 13,
   "metadata": {},
   "outputs": [
    {
     "data": {
      "text/plain": [
       "(5, 4, 3, 2)"
      ]
     },
     "execution_count": 13,
     "metadata": {},
     "output_type": "execute_result"
    }
   ],
   "source": [
    "t1 = np.random.rand(2,3,4,5)\n",
    "t1.T.shape"
   ]
  },
  {
   "cell_type": "code",
   "execution_count": 14,
   "metadata": {},
   "outputs": [
    {
     "data": {
      "text/plain": [
       "array([[[0.   , 0.1  ],\n",
       "        [0.01 , 0.11 ],\n",
       "        [0.02 , 0.12 ]],\n",
       "\n",
       "       [[0.001, 0.101],\n",
       "        [0.011, 0.111],\n",
       "        [0.021, 0.121]],\n",
       "\n",
       "       [[0.002, 0.102],\n",
       "        [0.012, 0.112],\n",
       "        [0.022, 0.122]],\n",
       "\n",
       "       [[0.003, 0.103],\n",
       "        [0.013, 0.113],\n",
       "        [0.023, 0.123]],\n",
       "\n",
       "       [[0.004, 0.104],\n",
       "        [0.014, 0.114],\n",
       "        [0.024, 0.124]]])"
      ]
     },
     "execution_count": 14,
     "metadata": {},
     "output_type": "execute_result"
    }
   ],
   "source": [
    "dbl3d.T"
   ]
  },
  {
   "cell_type": "code",
   "execution_count": 15,
   "metadata": {},
   "outputs": [
    {
     "data": {
      "text/plain": [
       "array([[[0.   , 0.01 , 0.02 ],\n",
       "        [0.001, 0.011, 0.021],\n",
       "        [0.002, 0.012, 0.022],\n",
       "        [0.003, 0.013, 0.023],\n",
       "        [0.004, 0.014, 0.024]],\n",
       "\n",
       "       [[0.1  , 0.11 , 0.12 ],\n",
       "        [0.101, 0.111, 0.121],\n",
       "        [0.102, 0.112, 0.122],\n",
       "        [0.103, 0.113, 0.123],\n",
       "        [0.104, 0.114, 0.124]]])"
      ]
     },
     "execution_count": 15,
     "metadata": {},
     "output_type": "execute_result"
    }
   ],
   "source": [
    "dbl3d.transpose(0,2,1)"
   ]
  },
  {
   "cell_type": "code",
   "execution_count": 16,
   "metadata": {},
   "outputs": [
    {
     "data": {
      "text/plain": [
       "(2, 3, 4)"
      ]
     },
     "execution_count": 16,
     "metadata": {},
     "output_type": "execute_result"
    }
   ],
   "source": [
    "test3d = np.array(\n",
    "    [[[1 , 2 , 3 , 4 ],\n",
    "      [5 , 6 , 7 , 8 ],\n",
    "      [9 , 10, 11, 12]],\n",
    "     [[13, 14, 15, 16],\n",
    "      [17, 18, 19, 20],\n",
    "      [21, 22, 23, 24]]]\n",
    ")\n",
    "test3d.shape"
   ]
  },
  {
   "cell_type": "code",
   "execution_count": 17,
   "metadata": {},
   "outputs": [
    {
     "data": {
      "text/plain": [
       "array([[[ 1,  5,  9],\n",
       "        [ 2,  6, 10],\n",
       "        [ 3,  7, 11],\n",
       "        [ 4,  8, 12]],\n",
       "\n",
       "       [[13, 17, 21],\n",
       "        [14, 18, 22],\n",
       "        [15, 19, 23],\n",
       "        [16, 20, 24]]])"
      ]
     },
     "execution_count": 17,
     "metadata": {},
     "output_type": "execute_result"
    }
   ],
   "source": [
    "test3d.transpose(0, 2, 1)"
   ]
  },
  {
   "cell_type": "code",
   "execution_count": 18,
   "metadata": {},
   "outputs": [
    {
     "data": {
      "text/plain": [
       "array([[[[ 1,  3,  5],\n",
       "         [ 2,  4,  6]],\n",
       "\n",
       "        [[ 7,  9, 11],\n",
       "         [ 8, 10, 12]]],\n",
       "\n",
       "\n",
       "       [[[13, 15, 17],\n",
       "         [14, 16, 18]],\n",
       "\n",
       "        [[19, 21, 22],\n",
       "         [20, 22, 23]]]])"
      ]
     },
     "execution_count": 18,
     "metadata": {},
     "output_type": "execute_result"
    }
   ],
   "source": [
    "t1 = np.array(\n",
    "    [[[[1 , 2],\n",
    "       [3 , 4],\n",
    "       [5 , 6]],\n",
    "      [[7 , 8],\n",
    "       [9 ,10],\n",
    "       [11,12]]],\n",
    "     [[[13,14],\n",
    "       [15,16],\n",
    "       [17,18]],\n",
    "      [[19,20],\n",
    "       [21,22],\n",
    "       [22,23]]]]\n",
    ")\n",
    "t1.transpose(0,1,3,2)"
   ]
  },
  {
   "cell_type": "code",
   "execution_count": null,
   "metadata": {},
   "outputs": [],
   "source": []
  }
 ],
 "metadata": {
  "kernelspec": {
   "display_name": "Python 3",
   "language": "python",
   "name": "python3"
  },
  "language_info": {
   "codemirror_mode": {
    "name": "ipython",
    "version": 3
   },
   "file_extension": ".py",
   "mimetype": "text/x-python",
   "name": "python",
   "nbconvert_exporter": "python",
   "pygments_lexer": "ipython3",
   "version": "3.9.0"
  }
 },
 "nbformat": 4,
 "nbformat_minor": 4
}
