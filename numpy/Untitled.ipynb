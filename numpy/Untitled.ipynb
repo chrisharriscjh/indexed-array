{
 "cells": [
  {
   "cell_type": "code",
   "execution_count": 1,
   "metadata": {},
   "outputs": [],
   "source": [
    "import numpy as np"
   ]
  },
  {
   "cell_type": "code",
   "execution_count": null,
   "metadata": {},
   "outputs": [],
   "source": [
    "t1 = [[[1, 2, 3, 4],\n",
    "       [5, 6, 7, 8],\n",
    "       [9, 10, 11, 12]],\n",
    "      [[13, 14, 15, 16],\n",
    "       [17, 18, 19, 20],\n",
    "       [21, 22, 23, 24]]]\n",
    "\n",
    "List(\n",
    "        List(\n",
    "          List(1, 2, 3, 4),\n",
    "          List(5, 6, 7, 8),\n",
    "          List(9, 10, 11, 12),\n",
    "        ),\n",
    "        List(\n",
    "          List(13, 14, 15, 16),\n",
    "          List(17, 18, 19, 20),\n",
    "          List(21, 22, 23, 24),\n",
    "        )\n",
    "      )\n"
   ]
  }
 ],
 "metadata": {
  "kernelspec": {
   "display_name": "Python 3",
   "language": "python",
   "name": "python3"
  },
  "language_info": {
   "codemirror_mode": {
    "name": "ipython",
    "version": 3
   },
   "file_extension": ".py",
   "mimetype": "text/x-python",
   "name": "python",
   "nbconvert_exporter": "python",
   "pygments_lexer": "ipython3",
   "version": "3.8.6"
  }
 },
 "nbformat": 4,
 "nbformat_minor": 4
}
